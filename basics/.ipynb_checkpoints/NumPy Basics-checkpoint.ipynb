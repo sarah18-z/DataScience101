{
 "cells": [
  {
   "cell_type": "markdown",
   "metadata": {},
   "source": [
    "# Numpy tutorial"
   ]
  },
  {
   "cell_type": "markdown",
   "metadata": {},
   "source": [
    "NumPy empowers rapid computation in Python by leveraging an underlying C implementation, resulting in exceptional speed. Its primary asset is the `ndarray` object, ensuring homogeneity of data types within arrays, thereby requiring elements to be of a singular data type. This design contributes to the efficiency and performance that makes NumPy a powerful tool for numerical operations in Python."
   ]
  },
  {
   "cell_type": "code",
   "execution_count": 18,
   "metadata": {},
   "outputs": [
    {
     "name": "stdout",
     "output_type": "stream",
     "text": [
      "Vector: [1 2 3 4]\n",
      "Shape: (4,)\n",
      "Dim: 1\n",
      "Data type: int32\n"
     ]
    }
   ],
   "source": [
    "import numpy as np\n",
    "\n",
    "vector = np.array([1, 2, 3, 4])\n",
    "print(\"Vector: {}\".format(vector))\n",
    "# Every array will have a shape. That is, its dimensions\n",
    "print(\"Shape: {}\".format(vector.shape))\n",
    "# Print number of dimensions\n",
    "print(\"Dim: {}\".format(vector.ndim))\n",
    "print(\"Data type: {}\".format(vector.dtype))"
   ]
  },
  {
   "cell_type": "markdown",
   "metadata": {},
   "source": [
    "Numpy utilizes representations with dimensions specified as \n",
    "\n",
    "`(depth, rows, columns)`. \n",
    "\n",
    "Therefore, a 3D array characterized by 3 rows, 2 columns, and 2 depth will have the shape `(2, 3, 2)`."
   ]
  },
  {
   "cell_type": "code",
   "execution_count": 5,
   "metadata": {},
   "outputs": [
    {
     "name": "stdout",
     "output_type": "stream",
     "text": [
      "[[[ 1  2]\n",
      "  [ 3  4]\n",
      "  [ 5  6]]\n",
      "\n",
      " [[ 7  8]\n",
      "  [ 9 10]\n",
      "  [11 12]]]\n"
     ]
    }
   ],
   "source": [
    "v = np.array([1, 2, 3, 4, 5, 6, 7, 8, 9, 10, 11, 12])\n",
    "v.shape = (2, 3, 2)\n",
    "print(v)"
   ]
  },
  {
   "cell_type": "code",
   "execution_count": 6,
   "metadata": {},
   "outputs": [
    {
     "name": "stdout",
     "output_type": "stream",
     "text": [
      "[[[0. 0.]\n",
      "  [0. 0.]\n",
      "  [0. 0.]]\n",
      "\n",
      " [[0. 0.]\n",
      "  [0. 0.]\n",
      "  [0. 0.]]]\n"
     ]
    }
   ],
   "source": [
    "v = np.zeros((2, 3, 2))\n",
    "print(v)"
   ]
  },
  {
   "cell_type": "markdown",
   "metadata": {},
   "source": [
    "## arange\n",
    "\n",
    "The [`arange` function](https://numpy.org/doc/stable/reference/generated/numpy.arange.html) is similar to Python's `range` function. If the data type is not specified, in many cases it will be `np.foat64`. \n",
    "\n",
    "**Exercice** : create an array with integers from 0 to 10, then from 10 to 20 "
   ]
  },
  {
   "cell_type": "code",
   "execution_count": 7,
   "metadata": {},
   "outputs": [
    {
     "name": "stdout",
     "output_type": "stream",
     "text": [
      "[ 0  1  2  3  4  5  6  7  8  9 10]\n"
     ]
    }
   ],
   "source": [
    "a = np.arange(0,11)\n",
    "print(a)"
   ]
  },
  {
   "cell_type": "code",
   "execution_count": 8,
   "metadata": {},
   "outputs": [
    {
     "name": "stdout",
     "output_type": "stream",
     "text": [
      "[10 11 12 13 14 15 16 17 18 19 20]\n"
     ]
    }
   ],
   "source": [
    "a = np.arange(10,21)\n",
    "print(a)"
   ]
  },
  {
   "cell_type": "markdown",
   "metadata": {},
   "source": [
    "## zeros, zeros_like\n",
    "\n",
    "[`zeros(dim)`](https://numpy.org/doc/stable/reference/generated/numpy.zeros.html) will return a np.array of `dim` dimensions initialised with 0. Note that `dim` should be a `tuple`. \n",
    "\n",
    "[`zeros_like(array)`](https://numpy.org/doc/stable/reference/generated/numpy.zeros_like.html) will return a np.array of same dimensions as of `array` initialised with zeros. \n",
    "\n",
    "**Exercice** : create a (4,4) array with zeros and then an array similar to `array_example` but with zeros everywhere\n"
   ]
  },
  {
   "cell_type": "code",
   "execution_count": 9,
   "metadata": {},
   "outputs": [
    {
     "name": "stdout",
     "output_type": "stream",
     "text": [
      "Zeros\n",
      "A: [[0. 0. 0. 0.]\n",
      " [0. 0. 0. 0.]\n",
      " [0. 0. 0. 0.]\n",
      " [0. 0. 0. 0.]]\n",
      "B: [[0. 0.]\n",
      " [0. 0.]]\n"
     ]
    }
   ],
   "source": [
    "print(\"Zeros\")\n",
    "a = np.zeros((4,4))\n",
    "print(\"A: {}\".format(a))\n",
    "\n",
    "array_example = np.array([[3., 4.], [9, 0.]])\n",
    "b = np.zeros_like(array_example)\n",
    "print(\"B: {}\".format(b))"
   ]
  },
  {
   "cell_type": "markdown",
   "metadata": {},
   "source": [
    "`ones` and `ones_like` share identical functionality, initializing arrays with ones. Similarly, `empty` and `empty_like` create numpy arrays without initialization (resulting in faster execution), defaulting to garbage values for all array elements.\n",
    "\n",
    "**Exercice** : do the previous exercice with those functions\n"
   ]
  },
  {
   "cell_type": "code",
   "execution_count": 10,
   "metadata": {},
   "outputs": [
    {
     "name": "stdout",
     "output_type": "stream",
     "text": [
      "\n",
      "Ones\n",
      "A: [[1. 1. 1. 1.]\n",
      " [1. 1. 1. 1.]\n",
      " [1. 1. 1. 1.]\n",
      " [1. 1. 1. 1.]]\n",
      "B: [[1. 1.]\n",
      " [1. 1.]]\n",
      "\n",
      "Empty\n",
      "C: [[1. 1. 1. 1.]\n",
      " [1. 1. 1. 1.]\n",
      " [1. 1. 1. 1.]\n",
      " [1. 1. 1. 1.]]\n",
      "D: [[3. 4.]\n",
      " [9. 0.]]\n"
     ]
    }
   ],
   "source": [
    "print(\"\\nOnes\")\n",
    "\n",
    "a = np.ones((4,4))\n",
    "print(\"A: {}\".format(a))\n",
    "\n",
    "array_example = np.array([[3., 4.], [9, 0.]])\n",
    "b = np.ones_like(array_example)\n",
    "print(\"B: {}\".format(b))\n",
    "\n",
    "print(\"\\nEmpty\")\n",
    "\n",
    "c = np.empty((4,4))\n",
    "print(\"C: {}\".format(c))\n",
    "\n",
    "array_example = np.array([[3., 4.], [9, 0.]])\n",
    "d = np.empty_like(array_example)\n",
    "print(\"D: {}\".format(d))"
   ]
  },
  {
   "cell_type": "markdown",
   "metadata": {},
   "source": [
    "## astype\n",
    "\n",
    "The [`astype` method](https://numpy.org/doc/stable/reference/generated/numpy.ndarray.astype.html) will convert one data type to another. Also note that `astype` will __create a new copy of the input array (even if the data type is same)__. \n",
    "\n",
    "**Exercice** : convert the array below into `int` type. "
   ]
  },
  {
   "cell_type": "code",
   "execution_count": 11,
   "metadata": {},
   "outputs": [
    {
     "name": "stdout",
     "output_type": "stream",
     "text": [
      "A: [1.  2.  3.  4.5 6.7], dtype: float64\n",
      "B: [1 2 3 4 6], dtype: int32\n"
     ]
    }
   ],
   "source": [
    "a = np.array([1, 2, 3, 4.5, 6.7])\n",
    "print(\"A: {}, dtype: {}\".format(a, a.dtype))\n",
    "b = a.astype(int)\n",
    "print(\"B: {}, dtype: {}\".format(b, b.dtype))"
   ]
  },
  {
   "cell_type": "markdown",
   "metadata": {},
   "source": [
    "## Vectorization and vector-scalar operations\n",
    "\n",
    "Utilizing for loops in code not only introduces error vulnerabilities but also proves inefficient. A more effective approach involves leveraging NumPy operations to replace these for loops, a technique known as vectorization.\n",
    "\n",
    "#### Using operations on same sized arrays produce element wise operations. \n",
    "\n",
    "It is possible to do basic operations with numpy\n",
    "\n",
    "**Exercice** : create additions, substractions, multiplications out of the two arrays below"
   ]
  },
  {
   "cell_type": "code",
   "execution_count": 40,
   "metadata": {},
   "outputs": [
    {
     "name": "stdout",
     "output_type": "stream",
     "text": [
      "[[5 7 9]\n",
      " [5 7 9]]\n",
      "[[ 4 10 18]\n",
      " [ 4 10 18]]\n",
      "[[-3 -3 -3]\n",
      " [ 3  3  3]]\n"
     ]
    }
   ],
   "source": [
    "a = np.array([[1, 2, 3], [4, 5, 6]])\n",
    "b = np.array([[4, 5, 6], [1, 2, 3]])\n",
    "\n",
    "# Addition\n",
    "c = \n",
    "print(c)\n",
    "\n",
    "# Substraction\n",
    "d = \n",
    "print(d)\n",
    "\n",
    "# Multiplication\n",
    "e = \n",
    "print(e)"
   ]
  },
  {
   "cell_type": "code",
   "execution_count": 12,
   "metadata": {},
   "outputs": [
    {
     "name": "stdout",
     "output_type": "stream",
     "text": [
      "[[5 7 9]\n",
      " [5 7 9]]\n",
      "[[-3 -3 -3]\n",
      " [ 3  3  3]]\n",
      "[[ 4 10 18]\n",
      " [ 4 10 18]]\n"
     ]
    }
   ],
   "source": [
    "a = np.array([[1, 2, 3], [4, 5, 6]])\n",
    "b = np.array([[4, 5, 6], [1, 2, 3]])\n",
    "\n",
    "# Addition\n",
    "c = a + b\n",
    "print(c)\n",
    "\n",
    "# Substraction\n",
    "d = a - b\n",
    "print(d)\n",
    "\n",
    "# Multiplication\n",
    "e = a*b\n",
    "print(e)"
   ]
  },
  {
   "cell_type": "markdown",
   "metadata": {},
   "source": [
    "Using scalars with vectors will produce element wise operations\n",
    "\n",
    "**Exercice** : create addition, substraction, multiplication, division out of the two arrays below"
   ]
  },
  {
   "cell_type": "code",
   "execution_count": 14,
   "metadata": {},
   "outputs": [
    {
     "name": "stdout",
     "output_type": "stream",
     "text": [
      "[[4 5 6]\n",
      " [7 8 9]]\n",
      "[[ 2  1  0]\n",
      " [-1 -2 -3]]\n",
      "[[ 3  6  9]\n",
      " [12 15 18]]\n",
      "[[3.   1.5  1.  ]\n",
      " [0.75 0.6  0.5 ]]\n"
     ]
    }
   ],
   "source": [
    "a = 3\n",
    "b = np.array([[1, 2, 3], [4, 5, 6]])\n",
    "\n",
    "c = a +b\n",
    "print(c)\n",
    "\n",
    "d = a - b\n",
    "print(d)\n",
    "\n",
    "e = a*b\n",
    "print(e)\n",
    "\n",
    "f = a/b\n",
    "print(f)"
   ]
  },
  {
   "cell_type": "markdown",
   "metadata": {},
   "source": [
    "## Slicing \n",
    "\n",
    "In NumPy, [slicing](https://numpy.org/doc/stable/user/basics.indexing.html#slicing-and-striding) refers to extracting a portion of an array by specifying a range of indices. It allows you to create a new view of the array without copying data, facilitating efficient access and manipulation of specific elements or subarrays. Slicing in NumPy involves using the colon (`:`) operator to define the start, stop, and step parameters for the desired selection.\n",
    "\n",
    "You can slice by following the syntax:\n",
    "```\n",
    "array[start_index:end_index] \n",
    "```\n",
    "For n-dimensional array, you can slice with:\n",
    "```\n",
    "array[start_index:end_index, start_index:end_index] \n",
    "```"
   ]
  },
  {
   "cell_type": "markdown",
   "metadata": {},
   "source": [
    "Slicing NumPy arrays is similar to that of Python lists. One main distinction in Python list and NumPy array is that the slice __is not the copy, but the original array. Hence, if any operations on the slice will be reflected in the original array.__\n",
    "\n",
    "**Exercice** : slice the array below and assign to indexes from 10 to 15 the value 5."
   ]
  },
  {
   "cell_type": "code",
   "execution_count": 15,
   "metadata": {},
   "outputs": [
    {
     "name": "stdout",
     "output_type": "stream",
     "text": [
      "[ 0  1  2  3  4  5  6  7  8  9 10 11 12 13 14 15 16 17 18 19]\n",
      "[ 0  1  2  3  4  5  6  7  8  9  5  5  5  5  5 15 16 17 18 19]\n"
     ]
    }
   ],
   "source": [
    "a = np.arange(20)\n",
    "print(a)\n",
    "a[10:15] = 5\n",
    "print(a)"
   ]
  },
  {
   "cell_type": "markdown",
   "metadata": {},
   "source": [
    "If you want to avoid above scenario, you can use `copy()`\n",
    "\n",
    "**Exercice**: use the function `copy()` to create a separate array"
   ]
  },
  {
   "cell_type": "code",
   "execution_count": 16,
   "metadata": {},
   "outputs": [
    {
     "name": "stdout",
     "output_type": "stream",
     "text": [
      "[ 0  1  2  3  4  5  6  7  8  9 10 11 12 13 14 15 16 17 18 19]\n",
      "[ 0  1  2  3  4  5  6  7  8  9 10 11 12 13 14 15 16 17 18 19]\n"
     ]
    }
   ],
   "source": [
    "a = np.arange(20)\n",
    "print(a)\n",
    "b = a.copy()\n",
    "b = 5\n",
    "# value in the original array doesn't change\n",
    "print(a)"
   ]
  },
  {
   "cell_type": "markdown",
   "metadata": {},
   "source": [
    "Slicing by `:` will take the entire axis. So:\n",
    "```\n",
    "1. arr2d[:, 0]         Will return array of shape (3, )\n",
    "2. arr2d[:, :1]        Will return array of shape (3, 1)\n",
    "```"
   ]
  },
  {
   "cell_type": "code",
   "execution_count": 23,
   "metadata": {},
   "outputs": [
    {
     "data": {
      "text/plain": [
       "array([1, 4, 7])"
      ]
     },
     "execution_count": 23,
     "metadata": {},
     "output_type": "execute_result"
    }
   ],
   "source": [
    "arr2d = np.array([[1, 2, 3], \n",
    "                  [4, 5, 6], \n",
    "                  [7, 8, 9]])\n",
    "arr2d[:, 0]"
   ]
  },
  {
   "cell_type": "markdown",
   "metadata": {},
   "source": [
    "## Boolean indexing\n",
    "\n",
    "[Boolean indexing](https://numpy.org/doc/stable/user/basics.indexing.html#boolean-array-indexing) in NumPy involves using boolean arrays to select elements based on a specified condition. This method creates a new array containing only the elements that satisfy the given boolean condition. It provides a powerful and concise way to filter and manipulate data within NumPy arrays.\n",
    "\n",
    "Using boolean indexing, you can use it to filter or check if any entries have any specific values. \n",
    "\n",
    "**Exercice** : use boolean indexing to create a boolean arrays (we call them masks) for indexing."
   ]
  },
  {
   "cell_type": "code",
   "execution_count": 3,
   "metadata": {},
   "outputs": [
    {
     "name": "stdout",
     "output_type": "stream",
     "text": [
      "[ True False False False False]\n"
     ]
    }
   ],
   "source": [
    "a = np.array([\"Mayur\", \"is\", \"an\", \"awesome\", \"coder\"])\n",
    "mask = (a == \"Mayur\")\n",
    "print(mask) # Returns boolean array"
   ]
  },
  {
   "cell_type": "markdown",
   "metadata": {},
   "source": [
    "**Exercice**: obtain an array from the array `a` that has all values except \"Mayur\""
   ]
  },
  {
   "cell_type": "code",
   "execution_count": 5,
   "metadata": {},
   "outputs": [
    {
     "name": "stdout",
     "output_type": "stream",
     "text": [
      "['is', 'an', 'awesome', 'coder']\n"
     ]
    }
   ],
   "source": [
    "# lists entry where value != \"Mayur\" \n",
    "filtered_a = [x for x in a if x != \"Mayur\"]\n",
    "print(filtered_a)"
   ]
  },
  {
   "cell_type": "markdown",
   "metadata": {},
   "source": [
    "__You can use `|` for `or` and `&` for `and` but not Python's `and`, `or` will not work with NumPy's indexing. __\n",
    "\n",
    "**Exercice**: create booleans masks with the or and and logical conditions, on variables \"Mayur\" and \"coder\""
   ]
  },
  {
   "cell_type": "code",
   "execution_count": 9,
   "metadata": {},
   "outputs": [
    {
     "name": "stdout",
     "output_type": "stream",
     "text": [
      "[ True False False False  True]\n"
     ]
    }
   ],
   "source": [
    "# Boolean mask for \"Mayur\" or \"coder\"\n",
    "mask_or = np.logical_or(a == \"Mayur\", a == \"coder\")\n",
    "print(mask_or)"
   ]
  },
  {
   "cell_type": "code",
   "execution_count": 10,
   "metadata": {},
   "outputs": [
    {
     "name": "stdout",
     "output_type": "stream",
     "text": [
      "[False False False False False]\n"
     ]
    }
   ],
   "source": [
    "# Boolean mask for \"Mayur\" and \"coder\"\n",
    "mask_and = np.logical_and(a == \"Mayur\", a == \"coder\")\n",
    "print(mask_and)"
   ]
  },
  {
   "cell_type": "markdown",
   "metadata": {},
   "source": [
    "## Transposing\n",
    "\n",
    "You can obtains the [transpose](https://numpy.org/doc/stable/reference/generated/numpy.transpose.html) of your matring using `matrix.T` where `matrix` is your matrix name. \n",
    "\n",
    "**Exercice**: create the transposition of the matrix below"
   ]
  },
  {
   "cell_type": "code",
   "execution_count": 11,
   "metadata": {},
   "outputs": [
    {
     "name": "stdout",
     "output_type": "stream",
     "text": [
      "[[1 2 3 4]\n",
      " [1 2 3 4]\n",
      " [1 2 3 4]]\n"
     ]
    }
   ],
   "source": [
    "a = np.array([[1, 1, 1], [2, 2, 2], [3, 3, 3], [4, 4, 4]])\n",
    "a_transposed = a.T\n",
    "print(a_transposed)"
   ]
  },
  {
   "cell_type": "markdown",
   "metadata": {},
   "source": [
    "## Matrix multiplication\n",
    "\n",
    "In NumPy, matrix multiplication can be performed using the [`np.dot()`](https://numpy.org/doc/stable/reference/generated/numpy.dot.html) function or the `@` operator. You need to check that the shapes are compatible.\n",
    "\n",
    "**Exercice**: do the matrix multiplication"
   ]
  },
  {
   "cell_type": "code",
   "execution_count": 12,
   "metadata": {},
   "outputs": [
    {
     "name": "stdout",
     "output_type": "stream",
     "text": [
      "[[19 22]\n",
      " [43 50]]\n",
      "[[19 22]\n",
      " [43 50]]\n"
     ]
    }
   ],
   "source": [
    "a = np.array([[1, 2], [3, 4]])\n",
    "b = np.array([[5, 6], [7, 8]])\n",
    "\n",
    "# Matrix multiplication using np.dot()\n",
    "result_dot = np.dot(a, b)\n",
    "\n",
    "# Matrix multiplication using @ operator\n",
    "result_at = a @ b\n",
    "\n",
    "print(result_dot)\n",
    "print(result_at)"
   ]
  },
  {
   "cell_type": "markdown",
   "metadata": {},
   "source": [
    "## Universal Functions\n",
    "NumPy has variety of functions that can be applied to scalars as well as vectors. Some examples are sqrt, exp, log, log10, sin, cos, arcsin etc. "
   ]
  },
  {
   "cell_type": "code",
   "execution_count": 21,
   "metadata": {},
   "outputs": [
    {
     "name": "stdout",
     "output_type": "stream",
     "text": [
      "485165195.4097903\n",
      "[[1.20490523 1.76000102]\n",
      " [1.01048349 2.70105749]]\n"
     ]
    }
   ],
   "source": [
    "a = 20\n",
    "b = np.random.rand(2, 2)\n",
    "print(np.exp(a))\n",
    "print(np.exp(b))"
   ]
  },
  {
   "cell_type": "markdown",
   "metadata": {},
   "source": [
    "**Exercice**: create other examples with sqrt, log, sin"
   ]
  },
  {
   "cell_type": "code",
   "execution_count": 13,
   "metadata": {},
   "outputs": [
    {
     "name": "stdout",
     "output_type": "stream",
     "text": [
      "Square root of [[1 2]\n",
      " [3 4]] : [[1.         1.41421356]\n",
      " [1.73205081 2.        ]]\n",
      "\n",
      "Square root of matrix B:\n",
      " [[2.23606798 2.44948974]\n",
      " [2.64575131 2.82842712]]\n",
      "\n",
      "Natural logarithm of [[1 2]\n",
      " [3 4]] : [[0.         0.69314718]\n",
      " [1.09861229 1.38629436]]\n",
      "\n",
      "Natural logarithm of matrix B:\n",
      " [[1.60943791 1.79175947]\n",
      " [1.94591015 2.07944154]]\n",
      "\n",
      "Sine of [[1 2]\n",
      " [3 4]] : [[ 0.84147098  0.90929743]\n",
      " [ 0.14112001 -0.7568025 ]]\n",
      "\n",
      "Sine of matrix B:\n",
      " [[-0.95892427 -0.2794155 ]\n",
      " [ 0.6569866   0.98935825]]\n"
     ]
    }
   ],
   "source": [
    "# Square root of a scalar\n",
    "sqrt_a = np.sqrt(a)\n",
    "print(\"Square root of\", a, \":\", sqrt_a)\n",
    "\n",
    "# Square root of a matrix\n",
    "sqrt_b = np.sqrt(b)\n",
    "print(\"\\nSquare root of matrix B:\\n\", sqrt_b)\n",
    "\n",
    "# Natural logarithm of a scalar\n",
    "log_a = np.log(a)\n",
    "print(\"\\nNatural logarithm of\", a, \":\", log_a)\n",
    "\n",
    "# Natural logarithm of a matrix\n",
    "log_b = np.log(b)\n",
    "print(\"\\nNatural logarithm of matrix B:\\n\", log_b)\n",
    "\n",
    "# Sine of a scalar (in radians)\n",
    "sin_a = np.sin(a)\n",
    "print(\"\\nSine of\", a, \":\", sin_a)\n",
    "\n",
    "# Sine of a matrix (in radians)\n",
    "sin_b = np.sin(b)\n",
    "print(\"\\nSine of matrix B:\\n\", sin_b)"
   ]
  },
  {
   "cell_type": "markdown",
   "metadata": {},
   "source": [
    "## meshgrid\n",
    "\n",
    "One of the most useful function is [meshgrid](https://numpy.org/doc/stable/reference/generated/numpy.meshgrid.html). It's used to visualize data boundaries of your classifier. What you do is train your classifier, then create a meshgrid of every pixel in the plot, and then classify the pixel. When you give the pixel a specific color according to the labelled class you can clearly visualize the boundaries. \n",
    "\n",
    "Using meshgrid requires three steps. \n",
    "1. Create xs (1D array)\n",
    "2. Create ys (1D array)\n",
    "3. Create meshgrid (2D array) which corresponds to every pixel in the graph.  "
   ]
  },
  {
   "cell_type": "code",
   "execution_count": 14,
   "metadata": {},
   "outputs": [
    {
     "name": "stdout",
     "output_type": "stream",
     "text": [
      "[[ 1.          1.09090909  1.18181818 ...  9.81818182  9.90909091\n",
      "  10.        ]\n",
      " [ 1.          1.09090909  1.18181818 ...  9.81818182  9.90909091\n",
      "  10.        ]\n",
      " [ 1.          1.09090909  1.18181818 ...  9.81818182  9.90909091\n",
      "  10.        ]\n",
      " ...\n",
      " [ 1.          1.09090909  1.18181818 ...  9.81818182  9.90909091\n",
      "  10.        ]\n",
      " [ 1.          1.09090909  1.18181818 ...  9.81818182  9.90909091\n",
      "  10.        ]\n",
      " [ 1.          1.09090909  1.18181818 ...  9.81818182  9.90909091\n",
      "  10.        ]] [[ 1.          1.          1.         ...  1.          1.\n",
      "   1.        ]\n",
      " [ 1.09090909  1.09090909  1.09090909 ...  1.09090909  1.09090909\n",
      "   1.09090909]\n",
      " [ 1.18181818  1.18181818  1.18181818 ...  1.18181818  1.18181818\n",
      "   1.18181818]\n",
      " ...\n",
      " [ 9.81818182  9.81818182  9.81818182 ...  9.81818182  9.81818182\n",
      "   9.81818182]\n",
      " [ 9.90909091  9.90909091  9.90909091 ...  9.90909091  9.90909091\n",
      "   9.90909091]\n",
      " [10.         10.         10.         ... 10.         10.\n",
      "  10.        ]]\n"
     ]
    }
   ],
   "source": [
    "xs = np.linspace(1, 10, 100)\n",
    "ys = np.linspace(1, 10, 100)\n",
    "xx, yy = np.meshgrid(xs, ys)\n",
    "# plot with xx and yy\n",
    "print(xx, yy)"
   ]
  },
  {
   "cell_type": "markdown",
   "metadata": {},
   "source": [
    "# where\n",
    "\n",
    "[`np.where` is a NumPy function](https://numpy.org/doc/stable/reference/generated/numpy.where.html) that returns the indices where a specified condition is true in an array, allowing for conditional selection or assignment of values. Concretly, if you have 3 arrays x, y, and condition then, `np.where` is replacement for using:\n",
    "```\n",
    "if condition: \n",
    "    use x\n",
    "else:\n",
    "    use y\n",
    "```"
   ]
  },
  {
   "cell_type": "code",
   "execution_count": 23,
   "metadata": {},
   "outputs": [
    {
     "data": {
      "text/plain": [
       "array([ 0,  3,  2,  3,  2, -5])"
      ]
     },
     "execution_count": 23,
     "metadata": {},
     "output_type": "execute_result"
    }
   ],
   "source": [
    "x = [0, -1, 2, 3, -4, -5]\n",
    "y = [9, 3, 4, 11, 2, 3]\n",
    "condition = [True, False, True, True, False, True]\n",
    "np.where(condition, x, y)"
   ]
  },
  {
   "cell_type": "markdown",
   "metadata": {},
   "source": [
    "**Exercice**: create a condition `x<y` and apply it to the previous arrays `x` and `y`"
   ]
  },
  {
   "cell_type": "code",
   "execution_count": 25,
   "metadata": {},
   "outputs": [
    {
     "data": {
      "text/plain": [
       "array([ 0, -1,  2,  3, -4, -5])"
      ]
     },
     "execution_count": 25,
     "metadata": {},
     "output_type": "execute_result"
    }
   ],
   "source": [
    "# Create a condition x < y\n",
    "condition2 = x < y\n",
    "\n",
    "# Apply the condition as a mask\n",
    "np.where(condition2, x, y)\n"
   ]
  },
  {
   "cell_type": "markdown",
   "metadata": {},
   "source": [
    "## mean, sum, std\n",
    "NumPy provides variety of functions for statistical use. You can furthermore specify the axis you want to reduce. \n",
    "\n",
    "**Exercice**: Use the [np.mean](https://numpy.org/doc/stable/reference/generated/numpy.mean.html), [np.sum](https://numpy.org/doc/stable/reference/generated/numpy.sum.html) and [np.std](https://numpy.org/doc/stable/reference/generated/numpy.std.html) functions on the array below "
   ]
  },
  {
   "cell_type": "code",
   "execution_count": 26,
   "metadata": {},
   "outputs": [
    {
     "name": "stdout",
     "output_type": "stream",
     "text": [
      "Original array:\n",
      " [[0.8926709  0.06280408 0.87334722]\n",
      " [0.27517382 0.40834197 0.04336933]\n",
      " [0.54995058 0.02862864 0.87614481]]\n",
      "\n",
      "Mean along axis 0 (columns):\n",
      " [0.57259843 0.16659156 0.59762046]\n",
      "\n",
      "Mean along axis 1 (rows):\n",
      " [0.6096074  0.24229504 0.48490801]\n",
      "\n",
      "Sum along axis 0 (columns):\n",
      " [1.7177953  0.49977469 1.79286137]\n",
      "\n",
      "Sum along axis 1 (rows):\n",
      " [1.8288222  0.72688513 1.45472403]\n",
      "\n",
      "Standard deviation along axis 0 (columns):\n",
      " [0.25260028 0.17151178 0.39191639]\n",
      "\n",
      "Standard deviation along axis 1 (rows):\n",
      " [0.38672881 0.15080234 0.34904042]\n"
     ]
    }
   ],
   "source": [
    "a = np.random.rand(3, 3)\n",
    "# Calculate mean along each axis\n",
    "mean_axis_0 = np.mean(a, axis=0)  # mean along axis 0 (columns)\n",
    "mean_axis_1 = np.mean(a, axis=1)  # mean along axis 1 (rows)\n",
    "\n",
    "# Calculate sum along each axis\n",
    "sum_axis_0 = np.sum(a, axis=0)  # sum along axis 0 (columns)\n",
    "sum_axis_1 = np.sum(a, axis=1)  # sum along axis 1 (rows)\n",
    "\n",
    "# Calculate standard deviation along each axis\n",
    "std_axis_0 = np.std(a, axis=0)  # std along axis 0 (columns)\n",
    "std_axis_1 = np.std(a, axis=1)  # std along axis 1 (rows)\n",
    "\n",
    "# Display the results\n",
    "print(\"Original array:\\n\", a)\n",
    "print(\"\\nMean along axis 0 (columns):\\n\", mean_axis_0)\n",
    "print(\"\\nMean along axis 1 (rows):\\n\", mean_axis_1)\n",
    "print(\"\\nSum along axis 0 (columns):\\n\", sum_axis_0)\n",
    "print(\"\\nSum along axis 1 (rows):\\n\", sum_axis_1)\n",
    "print(\"\\nStandard deviation along axis 0 (columns):\\n\", std_axis_0)\n",
    "print(\"\\nStandard deviation along axis 1 (rows):\\n\", std_axis_1)"
   ]
  },
  {
   "cell_type": "code",
   "execution_count": null,
   "metadata": {},
   "outputs": [],
   "source": []
  }
 ],
 "metadata": {
  "kernelspec": {
   "display_name": "Python 3 (ipykernel)",
   "language": "python",
   "name": "python3"
  },
  "language_info": {
   "codemirror_mode": {
    "name": "ipython",
    "version": 3
   },
   "file_extension": ".py",
   "mimetype": "text/x-python",
   "name": "python",
   "nbconvert_exporter": "python",
   "pygments_lexer": "ipython3",
   "version": "3.10.9"
  }
 },
 "nbformat": 4,
 "nbformat_minor": 4
}
